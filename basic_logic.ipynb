{
  "nbformat": 4,
  "nbformat_minor": 0,
  "metadata": {
    "colab": {
      "provenance": [],
      "authorship_tag": "ABX9TyMCc+3MRanNyy5O/fKxlJaZ",
      "include_colab_link": true
    },
    "kernelspec": {
      "name": "python3",
      "display_name": "Python 3"
    },
    "language_info": {
      "name": "python"
    }
  },
  "cells": [
    {
      "cell_type": "markdown",
      "metadata": {
        "id": "view-in-github",
        "colab_type": "text"
      },
      "source": [
        "<a href=\"https://colab.research.google.com/github/UsmanShafeeq/Advanced-Machine-Learning-Project/blob/main/basic_logic.ipynb\" target=\"_parent\"><img src=\"https://colab.research.google.com/assets/colab-badge.svg\" alt=\"Open In Colab\"/></a>"
      ]
    },
    {
      "cell_type": "markdown",
      "source": [
        "#File Handling"
      ],
      "metadata": {
        "id": "FUhhlaEZS-Vd"
      }
    },
    {
      "cell_type": "code",
      "execution_count": null,
      "metadata": {
        "id": "WG0QM-B03Xa2",
        "colab": {
          "base_uri": "https://localhost:8080/"
        },
        "outputId": "5fbd0234-98ba-4df5-cf7e-8cb4cb234474"
      },
      "outputs": [
        {
          "output_type": "stream",
          "name": "stdout",
          "text": [
            "Something went wrong\n",
            "The 'try except' is finished\n"
          ]
        }
      ],
      "source": [
        "try:\n",
        "  print(x)\n",
        "except:\n",
        "  print(\"Something went wrong\")\n",
        "finally:\n",
        "  print(\"The 'try except' is finished\")"
      ]
    },
    {
      "cell_type": "code",
      "source": [
        "try:\n",
        "  f = open(\"demofile.txt\")\n",
        "  try:\n",
        "    f.write(\"Lorum Ipsum\")\n",
        "  except:\n",
        "    print(\"Something went wrong when writing to the file\")\n",
        "  finally:\n",
        "    f.close()\n",
        "except:\n",
        "  print(\"Something went wrong when opening the file\")\n"
      ],
      "metadata": {
        "colab": {
          "base_uri": "https://localhost:8080/"
        },
        "id": "-T8LaOFDANZG",
        "outputId": "9754cc05-2ef0-4415-e328-0069247a91fb"
      },
      "execution_count": null,
      "outputs": [
        {
          "output_type": "stream",
          "name": "stdout",
          "text": [
            "Something went wrong when opening the file\n"
          ]
        }
      ]
    },
    {
      "cell_type": "code",
      "source": [
        "f = open(\"/content/sample_data/demofile.txt\", \"r\")\n",
        "print(f.read())"
      ],
      "metadata": {
        "colab": {
          "base_uri": "https://localhost:8080/"
        },
        "id": "MAWXUSkiH-Xf",
        "outputId": "2127e112-30d2-4fdf-830b-99a49fc6ced0"
      },
      "execution_count": null,
      "outputs": [
        {
          "output_type": "stream",
          "name": "stdout",
          "text": [
            "Hello! Welcome to demofile.txt\n",
            "This file is for testing purposes.\n",
            "Good Luck!\n"
          ]
        }
      ]
    },
    {
      "cell_type": "code",
      "source": [
        "f = open(\"/content/sample_data/demofile.txt\")\n",
        "print(f.read(5))"
      ],
      "metadata": {
        "id": "Ca7IK1FSKOG_",
        "colab": {
          "base_uri": "https://localhost:8080/"
        },
        "outputId": "141b5aec-7135-4009-8523-feaaac8b55c5"
      },
      "execution_count": null,
      "outputs": [
        {
          "output_type": "stream",
          "name": "stdout",
          "text": [
            "Hello\n"
          ]
        }
      ]
    },
    {
      "cell_type": "code",
      "source": [
        "print(f.readline())"
      ],
      "metadata": {
        "id": "y4l3_L4ZLGhb",
        "colab": {
          "base_uri": "https://localhost:8080/"
        },
        "outputId": "7f75303d-6377-4eca-affb-ca1a76a26c88"
      },
      "execution_count": null,
      "outputs": [
        {
          "output_type": "stream",
          "name": "stdout",
          "text": [
            "! Welcome to demofile.txt\n",
            "\n"
          ]
        }
      ]
    },
    {
      "cell_type": "code",
      "source": [
        "print(f.readline())\n",
        "print(f.readline())"
      ],
      "metadata": {
        "id": "BnfS2Wl9LMP-",
        "colab": {
          "base_uri": "https://localhost:8080/"
        },
        "outputId": "72d818ee-d63a-4421-c308-c9154387356d"
      },
      "execution_count": null,
      "outputs": [
        {
          "output_type": "stream",
          "name": "stdout",
          "text": [
            "This file is for testing purposes.\n",
            "\n",
            "Good Luck!\n"
          ]
        }
      ]
    },
    {
      "cell_type": "code",
      "source": [
        "f = open(\"/content/sample_data/demofile.txt\")\n",
        "for x in f:\n",
        "  print(x)"
      ],
      "metadata": {
        "id": "GNHF7EiWLY8V",
        "colab": {
          "base_uri": "https://localhost:8080/"
        },
        "outputId": "025348db-c3cd-4b2b-e1fe-297f87993300"
      },
      "execution_count": null,
      "outputs": [
        {
          "output_type": "stream",
          "name": "stdout",
          "text": [
            "Hello! Welcome to demofile.txt\n",
            "\n",
            "This file is for testing purposes.\n",
            "\n",
            "Good Luck!\n"
          ]
        }
      ]
    },
    {
      "cell_type": "code",
      "source": [
        "f = open(\"/content/sample_data/demofile.txt\")\n",
        "print(f.readline())\n",
        "f.close()"
      ],
      "metadata": {
        "id": "CPPC1EyELgFd",
        "colab": {
          "base_uri": "https://localhost:8080/"
        },
        "outputId": "8a67258a-2d0c-4333-caf2-cca601e57183"
      },
      "execution_count": null,
      "outputs": [
        {
          "output_type": "stream",
          "name": "stdout",
          "text": [
            "Hello! Welcome to demofile.txt\n",
            "\n"
          ]
        }
      ]
    },
    {
      "cell_type": "code",
      "source": [
        "f = open(\"/content/sample_data/demofile2.txt\",\"a\")\n",
        "f.write(\"Now the file has more content!\")\n",
        "f.close()\n",
        "\n",
        "# open and read the file after the appending:\n",
        "f = open(\"/content/sample_data/demofile2.txt\",\"r\")\n",
        "print(f.read())"
      ],
      "metadata": {
        "id": "GuMyXQEoLxY8",
        "colab": {
          "base_uri": "https://localhost:8080/"
        },
        "outputId": "bd371c07-50f9-46e1-ac0c-3078edf330a8"
      },
      "execution_count": null,
      "outputs": [
        {
          "output_type": "stream",
          "name": "stdout",
          "text": [
            "demofile2.txtNow the file has more content!Now the file has more content!\n"
          ]
        }
      ]
    },
    {
      "cell_type": "code",
      "source": [
        "f = open(\"/content/demofile2.txt\",\"w\")\n",
        "f.write(\"Woops! I have deleted the content!\")\n",
        "f.close()\n",
        "\n",
        "# open and read the file after the overwriting\n",
        "f = open(\"/content/demofile2.txt\",\"r\")\n",
        "print(f.read())"
      ],
      "metadata": {
        "id": "9V9eEZ1aNMUt"
      },
      "execution_count": null,
      "outputs": []
    },
    {
      "cell_type": "code",
      "source": [
        "f = open('myfile.txt','x')"
      ],
      "metadata": {
        "id": "v9JD4kjSNdxX"
      },
      "execution_count": null,
      "outputs": []
    },
    {
      "cell_type": "code",
      "source": [
        "f = open('myfile1.txt','w')"
      ],
      "metadata": {
        "id": "jS4P3FWpN7z-"
      },
      "execution_count": null,
      "outputs": []
    },
    {
      "cell_type": "code",
      "source": [
        "import os\n",
        "os.remove('myfile.txt')"
      ],
      "metadata": {
        "id": "Q8H5c5elOIIG"
      },
      "execution_count": null,
      "outputs": []
    },
    {
      "cell_type": "code",
      "source": [
        "import os\n",
        "if os.path.exists(\"myfile.txt\"):\n",
        "  os.remove(\"myfile.txt\")\n",
        "else:\n",
        "  print(\"The file does not exist\")\n",
        "\n"
      ],
      "metadata": {
        "id": "zyQIagubOVnE",
        "colab": {
          "base_uri": "https://localhost:8080/"
        },
        "outputId": "493539e0-28fd-49c3-f94a-6c36c763e6d8"
      },
      "execution_count": null,
      "outputs": [
        {
          "output_type": "stream",
          "name": "stdout",
          "text": [
            "The file does not exist\n"
          ]
        }
      ]
    },
    {
      "cell_type": "code",
      "source": [],
      "metadata": {
        "id": "FJVSMeOROvyT"
      },
      "execution_count": null,
      "outputs": []
    },
    {
      "cell_type": "markdown",
      "source": [
        "# Python Variables"
      ],
      "metadata": {
        "id": "pRB_RzA5S1xx"
      }
    },
    {
      "cell_type": "code",
      "source": [
        "# A variable is created the moment you first assign a value to it.\n",
        "x = 5\n",
        "y = \"usman\"\n",
        "print(x)\n",
        "print(y)\n"
      ],
      "metadata": {
        "id": "cCmlJlJ-Pn_p",
        "colab": {
          "base_uri": "https://localhost:8080/"
        },
        "outputId": "d9090ef4-b361-4d5a-883d-d0cd705ac300"
      },
      "execution_count": null,
      "outputs": [
        {
          "output_type": "stream",
          "name": "stdout",
          "text": [
            "5\n",
            "usman\n"
          ]
        }
      ]
    },
    {
      "cell_type": "code",
      "source": [
        "# Variables do not need to be declared with any particular type, and can even change type after they have been set.\n",
        "x = 4\n",
        "z = \"Sally\"\n",
        "print(x)\n",
        "print(x)"
      ],
      "metadata": {
        "id": "DoN_DucwP4i5",
        "colab": {
          "base_uri": "https://localhost:8080/"
        },
        "outputId": "fc1aec4f-03f2-48c8-9e80-f7d8ca9dabb6"
      },
      "execution_count": null,
      "outputs": [
        {
          "output_type": "stream",
          "name": "stdout",
          "text": [
            "4\n",
            "4\n"
          ]
        }
      ]
    },
    {
      "cell_type": "code",
      "source": [
        "print(type(x))\n",
        "print(type(y))"
      ],
      "metadata": {
        "id": "RDIKOo9UQIcD",
        "colab": {
          "base_uri": "https://localhost:8080/"
        },
        "outputId": "28ba68b3-6010-447f-e004-c722c26faec0"
      },
      "execution_count": null,
      "outputs": [
        {
          "output_type": "stream",
          "name": "stdout",
          "text": [
            "<class 'int'>\n",
            "<class 'str'>\n"
          ]
        }
      ]
    },
    {
      "cell_type": "code",
      "source": [
        "# Casting\n",
        "# If you want to specify the data type of a variable, this can be done with casting.\n",
        "\n",
        "x = str(x)\n",
        "y = int(3)\n",
        "z = float(x)"
      ],
      "metadata": {
        "id": "tQpAkKoUQeMe"
      },
      "execution_count": null,
      "outputs": []
    },
    {
      "cell_type": "code",
      "source": [
        "# tring variables can be declared either by using single or double quotes:\n",
        "\n",
        "x = \"Usman\"\n",
        "y = 'Usman'\n",
        "\n",
        "print(x)\n",
        "print(y)"
      ],
      "metadata": {
        "id": "v-Y-vjXURAE1",
        "colab": {
          "base_uri": "https://localhost:8080/"
        },
        "outputId": "b91126f5-c2c2-49ce-b047-98069d2fe9c6"
      },
      "execution_count": null,
      "outputs": [
        {
          "output_type": "stream",
          "name": "stdout",
          "text": [
            "Usman\n",
            "Usman\n"
          ]
        }
      ]
    },
    {
      "cell_type": "code",
      "source": [
        "# Variable names are case-sensitive.\n",
        "\n",
        "a = 4\n",
        "A = \"Usman\"\n",
        "\n",
        "print(a)\n",
        "print(A)"
      ],
      "metadata": {
        "id": "I83iPklcRPjD",
        "colab": {
          "base_uri": "https://localhost:8080/"
        },
        "outputId": "8eea168a-79fa-4e4d-b879-8dcda9759e2e"
      },
      "execution_count": null,
      "outputs": [
        {
          "output_type": "stream",
          "name": "stdout",
          "text": [
            "4\n",
            "Usman\n"
          ]
        }
      ]
    },
    {
      "cell_type": "code",
      "source": [
        "# Many Values to Multiple Variables\n",
        "x, y, z = \"Orange\", \"Banana\", \"Cherry\"\n",
        "print(x)\n",
        "print(y)\n",
        "print(z)"
      ],
      "metadata": {
        "id": "x5dHsdRvZx1T",
        "colab": {
          "base_uri": "https://localhost:8080/"
        },
        "outputId": "be87e86a-01d9-4922-c04f-b78a976787ae"
      },
      "execution_count": null,
      "outputs": [
        {
          "output_type": "stream",
          "name": "stdout",
          "text": [
            "Orange\n",
            "Banana\n",
            "Cherry\n"
          ]
        }
      ]
    },
    {
      "cell_type": "code",
      "source": [
        "# One Value to Multiple Variables\n",
        "x = y = z = \"Orange\"\n",
        "print(x)\n",
        "print(y)\n",
        "print(x)"
      ],
      "metadata": {
        "colab": {
          "base_uri": "https://localhost:8080/"
        },
        "id": "2Rf-cYyxbUZs",
        "outputId": "191b1488-eccc-4312-acc0-7ccefd0419fb"
      },
      "execution_count": null,
      "outputs": [
        {
          "output_type": "stream",
          "name": "stdout",
          "text": [
            "Orange\n",
            "Orange\n",
            "Orange\n"
          ]
        }
      ]
    },
    {
      "cell_type": "code",
      "source": [
        "# Unpack a list:\n",
        "fruits = ['apple', 'banana','cherry']\n",
        "x, y, z = fruits\n",
        "print(x)\n",
        "print(y)\n",
        "print(x)"
      ],
      "metadata": {
        "colab": {
          "base_uri": "https://localhost:8080/"
        },
        "id": "jEOlRcj9bnpo",
        "outputId": "afa4da23-b96b-4ce1-dd4f-f9debe081315"
      },
      "execution_count": null,
      "outputs": [
        {
          "output_type": "stream",
          "name": "stdout",
          "text": [
            "apple\n",
            "banana\n",
            "apple\n"
          ]
        }
      ]
    },
    {
      "cell_type": "code",
      "source": [
        "X = \"Python\"\n",
        "y = \"is\"\n",
        "z = \"awesome\"\n",
        "print(x, y, z)"
      ],
      "metadata": {
        "colab": {
          "base_uri": "https://localhost:8080/"
        },
        "id": "xrL9F5zqcEWb",
        "outputId": "a83fd7f3-7381-4526-fa5b-5fd58111f2b2"
      },
      "execution_count": null,
      "outputs": [
        {
          "output_type": "stream",
          "name": "stdout",
          "text": [
            "apple is awesome\n"
          ]
        }
      ]
    },
    {
      "cell_type": "code",
      "source": [
        "x = \"Python\"\n",
        "y = \"is\"\n",
        "z = \"awesome\"\n",
        "print(x + y + z)"
      ],
      "metadata": {
        "colab": {
          "base_uri": "https://localhost:8080/"
        },
        "id": "e2gQJV0JcRVy",
        "outputId": "6318dbc2-8e17-42c2-c816-dc6dd473565d"
      },
      "execution_count": null,
      "outputs": [
        {
          "output_type": "stream",
          "name": "stdout",
          "text": [
            "Pythonisawesome\n"
          ]
        }
      ]
    },
    {
      "cell_type": "code",
      "source": [
        "x = \"Hello World\"\n",
        "print(x)\n",
        "print(len(x))"
      ],
      "metadata": {
        "colab": {
          "base_uri": "https://localhost:8080/"
        },
        "id": "_AM9hkIpc2g_",
        "outputId": "c8ffd1b8-5665-4d3d-e8f3-db2ecc4f9d33"
      },
      "execution_count": null,
      "outputs": [
        {
          "output_type": "stream",
          "name": "stdout",
          "text": [
            "Hello World\n",
            "11\n"
          ]
        }
      ]
    },
    {
      "cell_type": "code",
      "source": [
        "x = 2\n",
        "print(x)"
      ],
      "metadata": {
        "colab": {
          "base_uri": "https://localhost:8080/"
        },
        "id": "40gYTMVgdHd2",
        "outputId": "7377ca83-f3ca-4afa-f1fa-89ef8b7a9203"
      },
      "execution_count": null,
      "outputs": [
        {
          "output_type": "stream",
          "name": "stdout",
          "text": [
            "2\n"
          ]
        }
      ]
    },
    {
      "cell_type": "code",
      "source": [
        "x = 1J\n",
        "print(x)"
      ],
      "metadata": {
        "colab": {
          "base_uri": "https://localhost:8080/"
        },
        "id": "sHC6A7ZvdL2n",
        "outputId": "14c8ca32-cb41-44e8-d804-5da2db7bdbf4"
      },
      "execution_count": null,
      "outputs": [
        {
          "output_type": "stream",
          "name": "stdout",
          "text": [
            "1j\n"
          ]
        }
      ]
    },
    {
      "cell_type": "code",
      "source": [
        "x = [\"Apple\", \"orange\", 'cherry', ' banana']\n",
        "print(x)"
      ],
      "metadata": {
        "colab": {
          "base_uri": "https://localhost:8080/"
        },
        "id": "jzecYuCDdQzS",
        "outputId": "912c4a7d-1f74-4223-bba0-c9be936cac48"
      },
      "execution_count": null,
      "outputs": [
        {
          "output_type": "stream",
          "name": "stdout",
          "text": [
            "['Apple', 'orange', 'cherry', ' banana']\n"
          ]
        }
      ]
    },
    {
      "cell_type": "code",
      "source": [
        "x = (\"Apple\", \"orange\", 'cherry', ' banana')\n",
        "print(x)"
      ],
      "metadata": {
        "colab": {
          "base_uri": "https://localhost:8080/"
        },
        "id": "uEh_jDyydca0",
        "outputId": "ad34c2f6-5813-4adb-c224-e7723788b9f6"
      },
      "execution_count": null,
      "outputs": [
        {
          "output_type": "stream",
          "name": "stdout",
          "text": [
            "('Apple', 'orange', 'cherry', ' banana')\n"
          ]
        }
      ]
    },
    {
      "cell_type": "code",
      "source": [
        "x = range(6)\n",
        "print(x)"
      ],
      "metadata": {
        "id": "dsH4hBxsdgzJ",
        "outputId": "3f2c67d1-467d-4b1a-e6ae-648a14fed57e",
        "colab": {
          "base_uri": "https://localhost:8080/"
        }
      },
      "execution_count": null,
      "outputs": [
        {
          "output_type": "stream",
          "name": "stdout",
          "text": [
            "range(0, 6)\n"
          ]
        }
      ]
    },
    {
      "cell_type": "code",
      "source": [
        "x = {\"name\" : \"John\", \"age\" :36}\n",
        "print(x)"
      ],
      "metadata": {
        "id": "NJ31At3rdmMa",
        "outputId": "87f82b5d-708b-4662-f5df-6f6bdeb69e49",
        "colab": {
          "base_uri": "https://localhost:8080/"
        }
      },
      "execution_count": null,
      "outputs": [
        {
          "output_type": "stream",
          "name": "stdout",
          "text": [
            "{'name': 'John', 'age': 36}\n"
          ]
        }
      ]
    },
    {
      "cell_type": "code",
      "source": [
        "x ={\"apple\", \"banana\", \"cherry\"}\n",
        "print(x)"
      ],
      "metadata": {
        "id": "NqiChzt1d75I",
        "outputId": "0511dfd5-e3a2-426a-82b3-85bc55dc90cd",
        "colab": {
          "base_uri": "https://localhost:8080/"
        }
      },
      "execution_count": null,
      "outputs": [
        {
          "output_type": "stream",
          "name": "stdout",
          "text": [
            "{'cherry', 'apple', 'banana'}\n"
          ]
        }
      ]
    },
    {
      "cell_type": "code",
      "source": [
        "X = frozenset({\"apple\", \"banana\", \"cherry\"})\n",
        "print(x)"
      ],
      "metadata": {
        "id": "5VPJi7LveDqn",
        "outputId": "1798c104-0a5e-4087-df3c-eae4efde545e",
        "colab": {
          "base_uri": "https://localhost:8080/"
        }
      },
      "execution_count": null,
      "outputs": [
        {
          "output_type": "stream",
          "name": "stdout",
          "text": [
            "{'cherry', 'apple', 'banana'}\n"
          ]
        }
      ]
    },
    {
      "cell_type": "code",
      "source": [
        "x = True\n",
        "print(x)"
      ],
      "metadata": {
        "id": "yP2LabD8eQoJ",
        "outputId": "c421f234-6f0f-4806-b2ec-bd07a8885267",
        "colab": {
          "base_uri": "https://localhost:8080/"
        }
      },
      "execution_count": null,
      "outputs": [
        {
          "output_type": "stream",
          "name": "stdout",
          "text": [
            "True\n"
          ]
        }
      ]
    },
    {
      "cell_type": "code",
      "source": [
        "x = bytearray(5)\n",
        "print(x)"
      ],
      "metadata": {
        "id": "Y_p09JR-eWDP",
        "outputId": "80a8202f-a967-4599-8a18-d3e64112bdc7",
        "colab": {
          "base_uri": "https://localhost:8080/"
        }
      },
      "execution_count": null,
      "outputs": [
        {
          "output_type": "stream",
          "name": "stdout",
          "text": [
            "bytearray(b'\\x00\\x00\\x00\\x00\\x00')\n"
          ]
        }
      ]
    },
    {
      "cell_type": "markdown",
      "source": [
        "# Python If ... Else"
      ],
      "metadata": {
        "id": "Far4OX1pS5Bd"
      }
    },
    {
      "cell_type": "code",
      "source": [
        "a = 33\n",
        "b = 200\n",
        "if b > a:\n",
        "  print(\"'b' is greater than 'a'\")"
      ],
      "metadata": {
        "colab": {
          "base_uri": "https://localhost:8080/"
        },
        "id": "LlDI1SKxS7PU",
        "outputId": "c7c83307-06fe-4b7c-8fd1-d1e941bffc53"
      },
      "execution_count": 1,
      "outputs": [
        {
          "output_type": "stream",
          "name": "stdout",
          "text": [
            "'b' is greater than 'a'\n"
          ]
        }
      ]
    },
    {
      "cell_type": "code",
      "source": [
        "a = 33\n",
        "b = 33\n",
        "if b > a:\n",
        "  print(\"b is greater than a\")\n",
        "elif a == b:\n",
        "  print(\"a and b are equal\")"
      ],
      "metadata": {
        "colab": {
          "base_uri": "https://localhost:8080/"
        },
        "id": "UbVBqDPZTN7l",
        "outputId": "10b2cfd3-8363-4eed-d208-1e4409effe6e"
      },
      "execution_count": 2,
      "outputs": [
        {
          "output_type": "stream",
          "name": "stdout",
          "text": [
            "a and b are equal\n"
          ]
        }
      ]
    },
    {
      "cell_type": "code",
      "source": [
        "a = 200\n",
        "b = 33\n",
        "if b > a:\n",
        "  print(\"b is greater than a \")\n",
        "elif a == b:\n",
        "  print(\"a and b are equal\")\n",
        "else:\n",
        "  print(\"a is greater than b\")"
      ],
      "metadata": {
        "colab": {
          "base_uri": "https://localhost:8080/"
        },
        "id": "PJ5TBprCTlmp",
        "outputId": "dfc31b8f-fb24-45ee-cad2-9a72e1f1f756"
      },
      "execution_count": 3,
      "outputs": [
        {
          "output_type": "stream",
          "name": "stdout",
          "text": [
            "a is greater than b\n"
          ]
        }
      ]
    },
    {
      "cell_type": "code",
      "source": [
        "a = 200\n",
        "b = 33\n",
        "\n",
        "if b > a:\n",
        "  print(\"b is greater than a\")\n",
        "else:\n",
        "  print(\"b is not greater than a\")"
      ],
      "metadata": {
        "colab": {
          "base_uri": "https://localhost:8080/"
        },
        "id": "HuiukcV7UBv6",
        "outputId": "447dc625-74b1-490f-d7dc-b557ca57e71d"
      },
      "execution_count": 4,
      "outputs": [
        {
          "output_type": "stream",
          "name": "stdout",
          "text": [
            "b is not greater than a\n"
          ]
        }
      ]
    },
    {
      "cell_type": "code",
      "source": [
        "a = 2\n",
        "b = 330\n",
        "print(\"A\") if a > b else print(\"B\")"
      ],
      "metadata": {
        "colab": {
          "base_uri": "https://localhost:8080/"
        },
        "id": "0abozWkxUXVp",
        "outputId": "56cdb67c-a068-44e9-8d8b-95bfafc9d030"
      },
      "execution_count": 5,
      "outputs": [
        {
          "output_type": "stream",
          "name": "stdout",
          "text": [
            "B\n"
          ]
        }
      ]
    },
    {
      "cell_type": "code",
      "source": [
        "a = 330\n",
        "b = 330\n",
        "\n",
        "print(\"A\") if a > b else print(\"=\") if a == b else print(\"B\")"
      ],
      "metadata": {
        "colab": {
          "base_uri": "https://localhost:8080/"
        },
        "id": "ri4H66mwUmtA",
        "outputId": "49840f6d-5617-47dd-9fcb-b0d2900618ad"
      },
      "execution_count": 6,
      "outputs": [
        {
          "output_type": "stream",
          "name": "stdout",
          "text": [
            "=\n"
          ]
        }
      ]
    },
    {
      "cell_type": "code",
      "source": [
        "a = 200\n",
        "b = 33\n",
        "c = 500\n",
        "if a > b and c > a:\n",
        "  print(\"Both conditions are True\")"
      ],
      "metadata": {
        "colab": {
          "base_uri": "https://localhost:8080/"
        },
        "id": "2AFmtQ84VA4y",
        "outputId": "9f137f6d-eb6d-4caf-a909-5edd4b2e5feb"
      },
      "execution_count": 7,
      "outputs": [
        {
          "output_type": "stream",
          "name": "stdout",
          "text": [
            "Both conditions are True\n"
          ]
        }
      ]
    },
    {
      "cell_type": "code",
      "source": [
        "x = 41\n",
        "\n",
        "if x > 10:\n",
        "  print(\"Above ten,\")\n",
        "  if x > 20:\n",
        "    print(\"and also above 20!\")\n",
        "  else:\n",
        "    print(\"but not above 20\")\n"
      ],
      "metadata": {
        "colab": {
          "base_uri": "https://localhost:8080/"
        },
        "id": "-Zco2fWEVcCG",
        "outputId": "023e0fac-dbb6-418a-e60e-b9cb1c3405a2"
      },
      "execution_count": 8,
      "outputs": [
        {
          "output_type": "stream",
          "name": "stdout",
          "text": [
            "Above ten,\n",
            "and also above 20!\n"
          ]
        }
      ]
    },
    {
      "cell_type": "code",
      "source": [
        "a = 33\n",
        "b = 200\n",
        "\n",
        "if not a > b:\n",
        "  print(\"a is NOT greater than b\")"
      ],
      "metadata": {
        "colab": {
          "base_uri": "https://localhost:8080/"
        },
        "id": "4WBym44rWAD4",
        "outputId": "36d5a226-722c-4680-f850-3f5ea6cd8d1d"
      },
      "execution_count": 9,
      "outputs": [
        {
          "output_type": "stream",
          "name": "stdout",
          "text": [
            "a is NOT greater than b\n"
          ]
        }
      ]
    },
    {
      "cell_type": "code",
      "source": [
        "a = 200\n",
        "b = 33\n",
        "c = 500\n",
        "if a > b or a > c:\n",
        "  print(\"At least one of the conditions is True\")"
      ],
      "metadata": {
        "colab": {
          "base_uri": "https://localhost:8080/"
        },
        "id": "l_VOo9YTWP33",
        "outputId": "cf712f8d-b549-4f15-bc32-239f7b0032f7"
      },
      "execution_count": 10,
      "outputs": [
        {
          "output_type": "stream",
          "name": "stdout",
          "text": [
            "At least one of the conditions is True\n"
          ]
        }
      ]
    },
    {
      "cell_type": "code",
      "source": [
        "num1 = float(input(\"Enter first number:\"))\n",
        "num2 = float(input(\"Enter second number:\"))\n",
        "\n",
        "if num1 > num2:\n",
        "  print(num1,\"is greater than\",num2)\n",
        "elif num1 < num2:\n",
        "  print(num1,\"is less than\",num2)\n",
        "else:\n",
        "  print(num1,\"is equal to\",num2)"
      ],
      "metadata": {
        "colab": {
          "base_uri": "https://localhost:8080/"
        },
        "id": "xm7ax5-qWeIY",
        "outputId": "02546ee0-25c5-4858-f0c8-83d2df699a2b"
      },
      "execution_count": 11,
      "outputs": [
        {
          "output_type": "stream",
          "name": "stdout",
          "text": [
            "Enter first number:20\n",
            "Enter second number:10\n",
            "20.0 is greater than 10.0\n"
          ]
        }
      ]
    },
    {
      "cell_type": "code",
      "source": [
        "# Get the number of rows from the user\n",
        "rows = int(input(\"Enter the number of rows: \"))\n",
        "\n",
        "for i in range(rows):\n",
        "\n",
        "  start = i % 2\n",
        "  for j in range(rows):\n",
        "    print((start + j ) % 2,end = \" \")\n",
        "  print()\n"
      ],
      "metadata": {
        "colab": {
          "base_uri": "https://localhost:8080/"
        },
        "id": "Evoz57M6XtD1",
        "outputId": "2ce1b200-66f4-4b25-8f6c-63020562f115"
      },
      "execution_count": 22,
      "outputs": [
        {
          "output_type": "stream",
          "name": "stdout",
          "text": [
            "Enter the number of rows: 4\n",
            "0 1 0 1 \n",
            "1 0 1 0 \n",
            "0 1 0 1 \n",
            "1 0 1 0 \n"
          ]
        }
      ]
    },
    {
      "cell_type": "code",
      "source": [
        "# Alternating Character Pattern\n",
        "rows = int(input(\"Enter the number of rows:\"))\n",
        "char1 = input(\"Enter the first character:\")\n",
        "char2 = input(\"Enter the second character:\")\n",
        "\n",
        "for i in range(rows):\n",
        "  start_char = char1 if i % 2 == 0 else char2\n",
        "\n",
        "  for j in range(rows):\n",
        "    print(start_char if j % 2 == 0 else char2 if start_char ==char1 else char1, end =\" \")\n",
        "  print()\n"
      ],
      "metadata": {
        "colab": {
          "base_uri": "https://localhost:8080/"
        },
        "id": "xi2zOWBCZ3h7",
        "outputId": "a05a61f6-e850-45ca-c937-1cb0e25c4acd"
      },
      "execution_count": 23,
      "outputs": [
        {
          "output_type": "stream",
          "name": "stdout",
          "text": [
            "Enter the number of rows:3\n",
            "Enter the first character:r\n",
            "Enter the second character:w\n",
            "r w r \n",
            "w r w \n",
            "r w r \n"
          ]
        }
      ]
    },
    {
      "cell_type": "code",
      "source": [],
      "metadata": {
        "id": "zlX3QPKQd1Lq"
      },
      "execution_count": null,
      "outputs": []
    }
  ]
}