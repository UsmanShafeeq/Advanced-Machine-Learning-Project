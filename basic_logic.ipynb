{
  "nbformat": 4,
  "nbformat_minor": 0,
  "metadata": {
    "colab": {
      "provenance": [],
      "toc_visible": true,
      "authorship_tag": "ABX9TyMvw/dCgnMX5jwfqBwYZ132",
      "include_colab_link": true
    },
    "kernelspec": {
      "name": "python3",
      "display_name": "Python 3"
    },
    "language_info": {
      "name": "python"
    }
  },
  "cells": [
    {
      "cell_type": "markdown",
      "metadata": {
        "id": "view-in-github",
        "colab_type": "text"
      },
      "source": [
        "<a href=\"https://colab.research.google.com/github/UsmanShafeeq/Advanced-Machine-Learning-Project/blob/main/basic_logic.ipynb\" target=\"_parent\"><img src=\"https://colab.research.google.com/assets/colab-badge.svg\" alt=\"Open In Colab\"/></a>"
      ]
    },
    {
      "cell_type": "markdown",
      "source": [
        "#File Handling"
      ],
      "metadata": {
        "id": "FUhhlaEZS-Vd"
      }
    },
    {
      "cell_type": "code",
      "execution_count": null,
      "metadata": {
        "id": "WG0QM-B03Xa2",
        "colab": {
          "base_uri": "https://localhost:8080/"
        },
        "outputId": "5fbd0234-98ba-4df5-cf7e-8cb4cb234474"
      },
      "outputs": [
        {
          "output_type": "stream",
          "name": "stdout",
          "text": [
            "Something went wrong\n",
            "The 'try except' is finished\n"
          ]
        }
      ],
      "source": [
        "try:\n",
        "  print(x)\n",
        "except:\n",
        "  print(\"Something went wrong\")\n",
        "finally:\n",
        "  print(\"The 'try except' is finished\")"
      ]
    },
    {
      "cell_type": "code",
      "source": [
        "try:\n",
        "  f = open(\"demofile.txt\")\n",
        "  try:\n",
        "    f.write(\"Lorum Ipsum\")\n",
        "  except:\n",
        "    print(\"Something went wrong when writing to the file\")\n",
        "  finally:\n",
        "    f.close()\n",
        "except:\n",
        "  print(\"Something went wrong when opening the file\")\n"
      ],
      "metadata": {
        "colab": {
          "base_uri": "https://localhost:8080/"
        },
        "id": "-T8LaOFDANZG",
        "outputId": "9754cc05-2ef0-4415-e328-0069247a91fb"
      },
      "execution_count": null,
      "outputs": [
        {
          "output_type": "stream",
          "name": "stdout",
          "text": [
            "Something went wrong when opening the file\n"
          ]
        }
      ]
    },
    {
      "cell_type": "code",
      "source": [
        "f = open(\"/content/sample_data/demofile.txt\", \"r\")\n",
        "print(f.read())"
      ],
      "metadata": {
        "colab": {
          "base_uri": "https://localhost:8080/"
        },
        "id": "MAWXUSkiH-Xf",
        "outputId": "2127e112-30d2-4fdf-830b-99a49fc6ced0"
      },
      "execution_count": 8,
      "outputs": [
        {
          "output_type": "stream",
          "name": "stdout",
          "text": [
            "Hello! Welcome to demofile.txt\n",
            "This file is for testing purposes.\n",
            "Good Luck!\n"
          ]
        }
      ]
    },
    {
      "cell_type": "code",
      "source": [
        "f = open(\"/content/sample_data/demofile.txt\")\n",
        "print(f.read(5))"
      ],
      "metadata": {
        "id": "Ca7IK1FSKOG_",
        "colab": {
          "base_uri": "https://localhost:8080/"
        },
        "outputId": "141b5aec-7135-4009-8523-feaaac8b55c5"
      },
      "execution_count": 9,
      "outputs": [
        {
          "output_type": "stream",
          "name": "stdout",
          "text": [
            "Hello\n"
          ]
        }
      ]
    },
    {
      "cell_type": "code",
      "source": [
        "print(f.readline())"
      ],
      "metadata": {
        "id": "y4l3_L4ZLGhb",
        "colab": {
          "base_uri": "https://localhost:8080/"
        },
        "outputId": "7f75303d-6377-4eca-affb-ca1a76a26c88"
      },
      "execution_count": 10,
      "outputs": [
        {
          "output_type": "stream",
          "name": "stdout",
          "text": [
            "! Welcome to demofile.txt\n",
            "\n"
          ]
        }
      ]
    },
    {
      "cell_type": "code",
      "source": [
        "print(f.readline())\n",
        "print(f.readline())"
      ],
      "metadata": {
        "id": "BnfS2Wl9LMP-",
        "colab": {
          "base_uri": "https://localhost:8080/"
        },
        "outputId": "72d818ee-d63a-4421-c308-c9154387356d"
      },
      "execution_count": 11,
      "outputs": [
        {
          "output_type": "stream",
          "name": "stdout",
          "text": [
            "This file is for testing purposes.\n",
            "\n",
            "Good Luck!\n"
          ]
        }
      ]
    },
    {
      "cell_type": "code",
      "source": [
        "f = open(\"/content/sample_data/demofile.txt\")\n",
        "for x in f:\n",
        "  print(x)"
      ],
      "metadata": {
        "id": "GNHF7EiWLY8V",
        "colab": {
          "base_uri": "https://localhost:8080/"
        },
        "outputId": "025348db-c3cd-4b2b-e1fe-297f87993300"
      },
      "execution_count": 12,
      "outputs": [
        {
          "output_type": "stream",
          "name": "stdout",
          "text": [
            "Hello! Welcome to demofile.txt\n",
            "\n",
            "This file is for testing purposes.\n",
            "\n",
            "Good Luck!\n"
          ]
        }
      ]
    },
    {
      "cell_type": "code",
      "source": [
        "f = open(\"/content/sample_data/demofile.txt\")\n",
        "print(f.readline())\n",
        "f.close()"
      ],
      "metadata": {
        "id": "CPPC1EyELgFd",
        "colab": {
          "base_uri": "https://localhost:8080/"
        },
        "outputId": "8a67258a-2d0c-4333-caf2-cca601e57183"
      },
      "execution_count": 13,
      "outputs": [
        {
          "output_type": "stream",
          "name": "stdout",
          "text": [
            "Hello! Welcome to demofile.txt\n",
            "\n"
          ]
        }
      ]
    },
    {
      "cell_type": "code",
      "source": [
        "f = open(\"/content/sample_data/demofile2.txt\",\"a\")\n",
        "f.write(\"Now the file has more content!\")\n",
        "f.close()\n",
        "\n",
        "# open and read the file after the appending:\n",
        "f = open(\"/content/sample_data/demofile2.txt\",\"r\")\n",
        "print(f.read())"
      ],
      "metadata": {
        "id": "GuMyXQEoLxY8",
        "colab": {
          "base_uri": "https://localhost:8080/"
        },
        "outputId": "bd371c07-50f9-46e1-ac0c-3078edf330a8"
      },
      "execution_count": 15,
      "outputs": [
        {
          "output_type": "stream",
          "name": "stdout",
          "text": [
            "demofile2.txtNow the file has more content!Now the file has more content!\n"
          ]
        }
      ]
    },
    {
      "cell_type": "code",
      "source": [
        "f = open(\"/content/demofile2.txt\",\"w\")\n",
        "f.write(\"Woops! I have deleted the content!\")\n",
        "f.close()\n",
        "\n",
        "# open and read the file after the overwriting\n",
        "f = open(\"/content/demofile2.txt\",\"r\")\n",
        "print(f.read())"
      ],
      "metadata": {
        "id": "9V9eEZ1aNMUt"
      },
      "execution_count": null,
      "outputs": []
    },
    {
      "cell_type": "code",
      "source": [
        "f = open('myfile.txt','x')"
      ],
      "metadata": {
        "id": "v9JD4kjSNdxX"
      },
      "execution_count": 16,
      "outputs": []
    },
    {
      "cell_type": "code",
      "source": [
        "f = open('myfile1.txt','w')"
      ],
      "metadata": {
        "id": "jS4P3FWpN7z-"
      },
      "execution_count": 17,
      "outputs": []
    },
    {
      "cell_type": "code",
      "source": [
        "import os\n",
        "os.remove('myfile.txt')"
      ],
      "metadata": {
        "id": "Q8H5c5elOIIG"
      },
      "execution_count": null,
      "outputs": []
    },
    {
      "cell_type": "code",
      "source": [
        "import os\n",
        "if os.path.exists(\"myfile.txt\"):\n",
        "  os.remove(\"myfile.txt\")\n",
        "else:\n",
        "  print(\"The file does not exist\")\n",
        "\n"
      ],
      "metadata": {
        "id": "zyQIagubOVnE",
        "colab": {
          "base_uri": "https://localhost:8080/"
        },
        "outputId": "493539e0-28fd-49c3-f94a-6c36c763e6d8"
      },
      "execution_count": 19,
      "outputs": [
        {
          "output_type": "stream",
          "name": "stdout",
          "text": [
            "The file does not exist\n"
          ]
        }
      ]
    },
    {
      "cell_type": "code",
      "source": [],
      "metadata": {
        "id": "FJVSMeOROvyT"
      },
      "execution_count": null,
      "outputs": []
    },
    {
      "cell_type": "markdown",
      "source": [
        "# Python Variables"
      ],
      "metadata": {
        "id": "pRB_RzA5S1xx"
      }
    },
    {
      "cell_type": "code",
      "source": [
        "# A variable is created the moment you first assign a value to it.\n",
        "x = 5\n",
        "y = \"usman\"\n",
        "print(x)\n",
        "print(y)\n"
      ],
      "metadata": {
        "id": "cCmlJlJ-Pn_p",
        "colab": {
          "base_uri": "https://localhost:8080/"
        },
        "outputId": "d9090ef4-b361-4d5a-883d-d0cd705ac300"
      },
      "execution_count": 20,
      "outputs": [
        {
          "output_type": "stream",
          "name": "stdout",
          "text": [
            "5\n",
            "usman\n"
          ]
        }
      ]
    },
    {
      "cell_type": "code",
      "source": [
        "# Variables do not need to be declared with any particular type, and can even change type after they have been set.\n",
        "x = 4\n",
        "z = \"Sally\"\n",
        "print(x)\n",
        "print(x)"
      ],
      "metadata": {
        "id": "DoN_DucwP4i5",
        "colab": {
          "base_uri": "https://localhost:8080/"
        },
        "outputId": "fc1aec4f-03f2-48c8-9e80-f7d8ca9dabb6"
      },
      "execution_count": 21,
      "outputs": [
        {
          "output_type": "stream",
          "name": "stdout",
          "text": [
            "4\n",
            "4\n"
          ]
        }
      ]
    },
    {
      "cell_type": "code",
      "source": [
        "print(type(x))\n",
        "print(type(y))"
      ],
      "metadata": {
        "id": "RDIKOo9UQIcD",
        "colab": {
          "base_uri": "https://localhost:8080/"
        },
        "outputId": "28ba68b3-6010-447f-e004-c722c26faec0"
      },
      "execution_count": 22,
      "outputs": [
        {
          "output_type": "stream",
          "name": "stdout",
          "text": [
            "<class 'int'>\n",
            "<class 'str'>\n"
          ]
        }
      ]
    },
    {
      "cell_type": "code",
      "source": [
        "# Casting\n",
        "# If you want to specify the data type of a variable, this can be done with casting.\n",
        "\n",
        "x = str(x)\n",
        "y = int(3)\n",
        "z = float(x)"
      ],
      "metadata": {
        "id": "tQpAkKoUQeMe"
      },
      "execution_count": 23,
      "outputs": []
    },
    {
      "cell_type": "code",
      "source": [
        "# tring variables can be declared either by using single or double quotes:\n",
        "\n",
        "x = \"Usman\"\n",
        "y = 'Usman'\n",
        "\n",
        "print(x)\n",
        "print(y)"
      ],
      "metadata": {
        "id": "v-Y-vjXURAE1",
        "colab": {
          "base_uri": "https://localhost:8080/"
        },
        "outputId": "b91126f5-c2c2-49ce-b047-98069d2fe9c6"
      },
      "execution_count": 24,
      "outputs": [
        {
          "output_type": "stream",
          "name": "stdout",
          "text": [
            "Usman\n",
            "Usman\n"
          ]
        }
      ]
    },
    {
      "cell_type": "code",
      "source": [
        "# Variable names are case-sensitive.\n",
        "\n",
        "a = 4\n",
        "A = \"Usman\"\n",
        "\n",
        "print(a)\n",
        "print(A)"
      ],
      "metadata": {
        "id": "I83iPklcRPjD",
        "colab": {
          "base_uri": "https://localhost:8080/"
        },
        "outputId": "8eea168a-79fa-4e4d-b879-8dcda9759e2e"
      },
      "execution_count": 25,
      "outputs": [
        {
          "output_type": "stream",
          "name": "stdout",
          "text": [
            "4\n",
            "Usman\n"
          ]
        }
      ]
    },
    {
      "cell_type": "code",
      "source": [
        "# Many Values to Multiple Variables\n",
        "x, y, z = \"Orange\", \"Banana\", \"Cherry\"\n",
        "print(x)\n",
        "print(y)\n",
        "print(z)"
      ],
      "metadata": {
        "id": "x5dHsdRvZx1T",
        "colab": {
          "base_uri": "https://localhost:8080/"
        },
        "outputId": "be87e86a-01d9-4922-c04f-b78a976787ae"
      },
      "execution_count": 26,
      "outputs": [
        {
          "output_type": "stream",
          "name": "stdout",
          "text": [
            "Orange\n",
            "Banana\n",
            "Cherry\n"
          ]
        }
      ]
    },
    {
      "cell_type": "code",
      "source": [
        "# One Value to Multiple Variables\n",
        "x = y = z = \"Orange\"\n",
        "print(x)\n",
        "print(y)\n",
        "print(x)"
      ],
      "metadata": {
        "colab": {
          "base_uri": "https://localhost:8080/"
        },
        "id": "2Rf-cYyxbUZs",
        "outputId": "191b1488-eccc-4312-acc0-7ccefd0419fb"
      },
      "execution_count": 28,
      "outputs": [
        {
          "output_type": "stream",
          "name": "stdout",
          "text": [
            "Orange\n",
            "Orange\n",
            "Orange\n"
          ]
        }
      ]
    },
    {
      "cell_type": "code",
      "source": [
        "# Unpack a list:\n",
        "fruits = ['apple', 'banana','cherry']\n",
        "x, y, z = fruits\n",
        "print(x)\n",
        "print(y)\n",
        "print(x)"
      ],
      "metadata": {
        "colab": {
          "base_uri": "https://localhost:8080/"
        },
        "id": "jEOlRcj9bnpo",
        "outputId": "afa4da23-b96b-4ce1-dd4f-f9debe081315"
      },
      "execution_count": 29,
      "outputs": [
        {
          "output_type": "stream",
          "name": "stdout",
          "text": [
            "apple\n",
            "banana\n",
            "apple\n"
          ]
        }
      ]
    },
    {
      "cell_type": "code",
      "source": [
        "X = \"Python\"\n",
        "y = \"is\"\n",
        "z = \"awesome\"\n",
        "print(x, y, z)"
      ],
      "metadata": {
        "colab": {
          "base_uri": "https://localhost:8080/"
        },
        "id": "xrL9F5zqcEWb",
        "outputId": "a83fd7f3-7381-4526-fa5b-5fd58111f2b2"
      },
      "execution_count": 30,
      "outputs": [
        {
          "output_type": "stream",
          "name": "stdout",
          "text": [
            "apple is awesome\n"
          ]
        }
      ]
    },
    {
      "cell_type": "code",
      "source": [
        "x = \"Python\"\n",
        "y = \"is\"\n",
        "z = \"awesome\"\n",
        "print(x + y + z)"
      ],
      "metadata": {
        "colab": {
          "base_uri": "https://localhost:8080/"
        },
        "id": "e2gQJV0JcRVy",
        "outputId": "6318dbc2-8e17-42c2-c816-dc6dd473565d"
      },
      "execution_count": 31,
      "outputs": [
        {
          "output_type": "stream",
          "name": "stdout",
          "text": [
            "Pythonisawesome\n"
          ]
        }
      ]
    },
    {
      "cell_type": "code",
      "source": [
        "x = \"Hello World\"\n",
        "print(x)\n",
        "print(len(x))"
      ],
      "metadata": {
        "colab": {
          "base_uri": "https://localhost:8080/"
        },
        "id": "_AM9hkIpc2g_",
        "outputId": "c8ffd1b8-5665-4d3d-e8f3-db2ecc4f9d33"
      },
      "execution_count": 33,
      "outputs": [
        {
          "output_type": "stream",
          "name": "stdout",
          "text": [
            "Hello World\n",
            "11\n"
          ]
        }
      ]
    },
    {
      "cell_type": "code",
      "source": [
        "x = 2\n",
        "print(x)"
      ],
      "metadata": {
        "colab": {
          "base_uri": "https://localhost:8080/"
        },
        "id": "40gYTMVgdHd2",
        "outputId": "7377ca83-f3ca-4afa-f1fa-89ef8b7a9203"
      },
      "execution_count": 34,
      "outputs": [
        {
          "output_type": "stream",
          "name": "stdout",
          "text": [
            "2\n"
          ]
        }
      ]
    },
    {
      "cell_type": "code",
      "source": [
        "x = 1J\n",
        "print(x)"
      ],
      "metadata": {
        "colab": {
          "base_uri": "https://localhost:8080/"
        },
        "id": "sHC6A7ZvdL2n",
        "outputId": "14c8ca32-cb41-44e8-d804-5da2db7bdbf4"
      },
      "execution_count": 35,
      "outputs": [
        {
          "output_type": "stream",
          "name": "stdout",
          "text": [
            "1j\n"
          ]
        }
      ]
    },
    {
      "cell_type": "code",
      "source": [
        "x = [\"Apple\", \"orange\", 'cherry', ' banana']\n",
        "print(x)"
      ],
      "metadata": {
        "colab": {
          "base_uri": "https://localhost:8080/"
        },
        "id": "jzecYuCDdQzS",
        "outputId": "912c4a7d-1f74-4223-bba0-c9be936cac48"
      },
      "execution_count": 36,
      "outputs": [
        {
          "output_type": "stream",
          "name": "stdout",
          "text": [
            "['Apple', 'orange', 'cherry', ' banana']\n"
          ]
        }
      ]
    },
    {
      "cell_type": "code",
      "source": [
        "x = (\"Apple\", \"orange\", 'cherry', ' banana')\n",
        "print(x)"
      ],
      "metadata": {
        "colab": {
          "base_uri": "https://localhost:8080/"
        },
        "id": "uEh_jDyydca0",
        "outputId": "ad34c2f6-5813-4adb-c224-e7723788b9f6"
      },
      "execution_count": 37,
      "outputs": [
        {
          "output_type": "stream",
          "name": "stdout",
          "text": [
            "('Apple', 'orange', 'cherry', ' banana')\n"
          ]
        }
      ]
    },
    {
      "cell_type": "code",
      "source": [
        "x = range(6)\n",
        "print(x)"
      ],
      "metadata": {
        "colab": {
          "base_uri": "https://localhost:8080/"
        },
        "id": "dsH4hBxsdgzJ",
        "outputId": "3f2c67d1-467d-4b1a-e6ae-648a14fed57e"
      },
      "execution_count": 38,
      "outputs": [
        {
          "output_type": "stream",
          "name": "stdout",
          "text": [
            "range(0, 6)\n"
          ]
        }
      ]
    },
    {
      "cell_type": "code",
      "source": [
        "x = {\"name\" : \"John\", \"age\" :36}\n",
        "print(x)"
      ],
      "metadata": {
        "colab": {
          "base_uri": "https://localhost:8080/"
        },
        "id": "NJ31At3rdmMa",
        "outputId": "87f82b5d-708b-4662-f5df-6f6bdeb69e49"
      },
      "execution_count": 40,
      "outputs": [
        {
          "output_type": "stream",
          "name": "stdout",
          "text": [
            "{'name': 'John', 'age': 36}\n"
          ]
        }
      ]
    },
    {
      "cell_type": "code",
      "source": [
        "x ={\"apple\", \"banana\", \"cherry\"}\n",
        "print(x)"
      ],
      "metadata": {
        "colab": {
          "base_uri": "https://localhost:8080/"
        },
        "id": "NqiChzt1d75I",
        "outputId": "0511dfd5-e3a2-426a-82b3-85bc55dc90cd"
      },
      "execution_count": 41,
      "outputs": [
        {
          "output_type": "stream",
          "name": "stdout",
          "text": [
            "{'cherry', 'apple', 'banana'}\n"
          ]
        }
      ]
    },
    {
      "cell_type": "code",
      "source": [
        "X = frozenset({\"apple\", \"banana\", \"cherry\"})\n",
        "print(x)"
      ],
      "metadata": {
        "colab": {
          "base_uri": "https://localhost:8080/"
        },
        "id": "5VPJi7LveDqn",
        "outputId": "1798c104-0a5e-4087-df3c-eae4efde545e"
      },
      "execution_count": 43,
      "outputs": [
        {
          "output_type": "stream",
          "name": "stdout",
          "text": [
            "{'cherry', 'apple', 'banana'}\n"
          ]
        }
      ]
    },
    {
      "cell_type": "code",
      "source": [
        "x = True\n",
        "print(x)"
      ],
      "metadata": {
        "colab": {
          "base_uri": "https://localhost:8080/"
        },
        "id": "yP2LabD8eQoJ",
        "outputId": "c421f234-6f0f-4806-b2ec-bd07a8885267"
      },
      "execution_count": 44,
      "outputs": [
        {
          "output_type": "stream",
          "name": "stdout",
          "text": [
            "True\n"
          ]
        }
      ]
    },
    {
      "cell_type": "code",
      "source": [
        "x = bytearray(5)\n",
        "print(x)"
      ],
      "metadata": {
        "colab": {
          "base_uri": "https://localhost:8080/"
        },
        "id": "Y_p09JR-eWDP",
        "outputId": "a5c1988c-5d19-4a95-f765-61bf8a6815d1"
      },
      "execution_count": 46,
      "outputs": [
        {
          "output_type": "stream",
          "name": "stdout",
          "text": [
            "bytearray(b'\\x00\\x00\\x00\\x00\\x00')\n"
          ]
        }
      ]
    },
    {
      "cell_type": "code",
      "source": [
        "x = memoryview(bytes(5))\n",
        "print(x)"
      ],
      "metadata": {
        "id": "7Jnsl49Eees4",
        "outputId": "a49d73f2-cac5-48f7-bd6e-6bfc95c99de5",
        "colab": {
          "base_uri": "https://localhost:8080/"
        }
      },
      "execution_count": 47,
      "outputs": [
        {
          "output_type": "stream",
          "name": "stdout",
          "text": [
            "<memory at 0x7e34c8b99780>\n"
          ]
        }
      ]
    },
    {
      "cell_type": "code",
      "source": [
        "x = None\n",
        "print(x)"
      ],
      "metadata": {
        "id": "q34e6FWqeh2A",
        "outputId": "ed7a0a36-8298-4bfa-f909-e34abc5d18fa",
        "colab": {
          "base_uri": "https://localhost:8080/"
        }
      },
      "execution_count": 48,
      "outputs": [
        {
          "output_type": "stream",
          "name": "stdout",
          "text": [
            "None\n"
          ]
        }
      ]
    },
    {
      "cell_type": "markdown",
      "source": [
        "# Python Strings"
      ],
      "metadata": {
        "id": "Far4OX1pS5Bd"
      }
    },
    {
      "cell_type": "code",
      "source": [
        "print(\"Hello world\")"
      ],
      "metadata": {
        "id": "JXyD7Wohe5rf",
        "outputId": "11c55186-e60b-46cc-8564-67048c2f64b8",
        "colab": {
          "base_uri": "https://localhost:8080/"
        }
      },
      "execution_count": 49,
      "outputs": [
        {
          "output_type": "stream",
          "name": "stdout",
          "text": [
            "Hello world\n"
          ]
        }
      ]
    },
    {
      "cell_type": "code",
      "source": [
        "print(\"It's alright\")\n",
        "print(\"He is called 'Usman'\")\n",
        "print('He is called \"Usman\"')"
      ],
      "metadata": {
        "id": "pZ2xiBEbfGlG",
        "outputId": "ef11df5d-1b73-43a8-ced1-4253e85e9e26",
        "colab": {
          "base_uri": "https://localhost:8080/"
        }
      },
      "execution_count": 50,
      "outputs": [
        {
          "output_type": "stream",
          "name": "stdout",
          "text": [
            "It's alright\n",
            "He is called 'Usman'\n",
            "He is called \"Usman\"\n"
          ]
        }
      ]
    },
    {
      "cell_type": "code",
      "source": [
        "a = \"It is future language\"\n",
        "print(a)"
      ],
      "metadata": {
        "id": "gtXhvo8bfQQc",
        "outputId": "83cad2e3-5c68-47ba-a8d3-31b4228aa3c7",
        "colab": {
          "base_uri": "https://localhost:8080/"
        }
      },
      "execution_count": 52,
      "outputs": [
        {
          "output_type": "stream",
          "name": "stdout",
          "text": [
            "It is future language\n"
          ]
        }
      ]
    },
    {
      "cell_type": "code",
      "source": [
        "a =\"\"\"Lorem ipsum dolor sit amet,\n",
        "consectetur adipiscing elit,\n",
        "sed do eiusmod tempor incididunt\n",
        "ut labore et dolore magna aliqua.\"\"\"\n",
        "print(a)"
      ],
      "metadata": {
        "id": "S542p16_ghSg",
        "outputId": "7923b4b9-1deb-4392-b38e-5da06720b527",
        "colab": {
          "base_uri": "https://localhost:8080/"
        }
      },
      "execution_count": 55,
      "outputs": [
        {
          "output_type": "stream",
          "name": "stdout",
          "text": [
            "Lorem ipsum dolor sit amet,\n",
            "consectetur adipiscing elit,\n",
            "sed do eiusmod tempor incididunt\n",
            "ut labore et dolore magna aliqua.\n"
          ]
        }
      ]
    },
    {
      "cell_type": "code",
      "source": [
        "a = \"Hello, World!\"\n",
        "print(a[1])"
      ],
      "metadata": {
        "id": "P16pLyJ4gosE",
        "outputId": "544eed39-f3cc-401b-9be6-d73c4b6f6f71",
        "colab": {
          "base_uri": "https://localhost:8080/"
        }
      },
      "execution_count": 56,
      "outputs": [
        {
          "output_type": "stream",
          "name": "stdout",
          "text": [
            "e\n"
          ]
        }
      ]
    },
    {
      "cell_type": "code",
      "source": [
        "for x in \"banana\":\n",
        "  print(x)"
      ],
      "metadata": {
        "id": "ftKwD2Pxg5Nm",
        "outputId": "a3373d18-743e-4d70-95b8-5361b4f58715",
        "colab": {
          "base_uri": "https://localhost:8080/"
        }
      },
      "execution_count": 57,
      "outputs": [
        {
          "output_type": "stream",
          "name": "stdout",
          "text": [
            "b\n",
            "a\n",
            "n\n",
            "a\n",
            "n\n",
            "a\n"
          ]
        }
      ]
    },
    {
      "cell_type": "code",
      "source": [
        "a = \"Python is awesome\"\n",
        "print(len(a))"
      ],
      "metadata": {
        "id": "qZqmeo9-hLOF",
        "outputId": "8a5256c3-99ac-4e36-d53a-5d728ab883e6",
        "colab": {
          "base_uri": "https://localhost:8080/"
        }
      },
      "execution_count": 58,
      "outputs": [
        {
          "output_type": "stream",
          "name": "stdout",
          "text": [
            "17\n"
          ]
        }
      ]
    },
    {
      "cell_type": "code",
      "source": [
        "text = \"The best things in life are free !\"\n",
        "print(\"free\" in text)"
      ],
      "metadata": {
        "id": "DOynXs_xhTXd",
        "outputId": "e54688a9-5272-438f-d5af-1a98ab4fc678",
        "colab": {
          "base_uri": "https://localhost:8080/"
        }
      },
      "execution_count": 59,
      "outputs": [
        {
          "output_type": "stream",
          "name": "stdout",
          "text": [
            "True\n"
          ]
        }
      ]
    },
    {
      "cell_type": "code",
      "source": [
        "text = \"The best things in life are free !\"\n",
        "if \"free\" in text:\n",
        "  print(\"Yes, 'free' is present.\")"
      ],
      "metadata": {
        "id": "pg3tDle3hnMq",
        "outputId": "fbb82ce1-cffc-4635-f4e7-ad4aa01f0655",
        "colab": {
          "base_uri": "https://localhost:8080/"
        }
      },
      "execution_count": 60,
      "outputs": [
        {
          "output_type": "stream",
          "name": "stdout",
          "text": [
            "Yes, 'free' is present.\n"
          ]
        }
      ]
    },
    {
      "cell_type": "code",
      "source": [
        "txt = \"The best things in life are free !\"\n",
        "print(\"expensive\" not in txt)"
      ],
      "metadata": {
        "id": "oKdjOD4aiHB8",
        "outputId": "358c8458-d639-4d07-d1db-1547ae1cae0f",
        "colab": {
          "base_uri": "https://localhost:8080/"
        }
      },
      "execution_count": 61,
      "outputs": [
        {
          "output_type": "stream",
          "name": "stdout",
          "text": [
            "True\n"
          ]
        }
      ]
    },
    {
      "cell_type": "code",
      "source": [
        "txt = \"The best things in life are free !\"\n",
        "if \"expensive\" not in txt:\n",
        "  print(\"NO, 'expensive' is Not present.\")"
      ],
      "metadata": {
        "id": "FAcep9DtiW-Y",
        "outputId": "923fc6bd-38d1-4ed6-8e7a-fcf7f935d890",
        "colab": {
          "base_uri": "https://localhost:8080/"
        }
      },
      "execution_count": 62,
      "outputs": [
        {
          "output_type": "stream",
          "name": "stdout",
          "text": [
            "NO, 'expensive' is Not present.\n"
          ]
        }
      ]
    },
    {
      "cell_type": "code",
      "source": [],
      "metadata": {
        "id": "UGc0ioHRivIH"
      },
      "execution_count": null,
      "outputs": []
    },
    {
      "cell_type": "markdown",
      "source": [
        "# Python - Slicing Strings"
      ],
      "metadata": {
        "id": "QFS3aFCri0Um"
      }
    },
    {
      "cell_type": "code",
      "source": [
        "b = \"Hellow , World!\"\n",
        "print(b[2:5])"
      ],
      "metadata": {
        "id": "wtna06hIi2Y6",
        "outputId": "5cb02316-e898-4c3a-9ce2-a612e7adf4c4",
        "colab": {
          "base_uri": "https://localhost:8080/"
        }
      },
      "execution_count": 63,
      "outputs": [
        {
          "output_type": "stream",
          "name": "stdout",
          "text": [
            "llo\n"
          ]
        }
      ]
    },
    {
      "cell_type": "code",
      "source": [
        "print(b[5:10])"
      ],
      "metadata": {
        "id": "rndyOPuwtIC1",
        "outputId": "8497d67c-ceee-4462-eb56-c8aa1ce8672f",
        "colab": {
          "base_uri": "https://localhost:8080/"
        }
      },
      "execution_count": 64,
      "outputs": [
        {
          "output_type": "stream",
          "name": "stdout",
          "text": [
            "w , W\n"
          ]
        }
      ]
    },
    {
      "cell_type": "code",
      "source": [
        "b = \"Hellow, World!\"\n",
        "print(b[:5])"
      ],
      "metadata": {
        "id": "QP9r4Km-tPc_",
        "outputId": "b206435b-4433-4da9-8ee3-5fd550f3e9d9",
        "colab": {
          "base_uri": "https://localhost:8080/"
        }
      },
      "execution_count": 65,
      "outputs": [
        {
          "output_type": "stream",
          "name": "stdout",
          "text": [
            "Hello\n"
          ]
        }
      ]
    },
    {
      "cell_type": "code",
      "source": [
        "print(b[1:10])"
      ],
      "metadata": {
        "id": "DBJ4h87NtYaM",
        "outputId": "38826c3d-b54e-41a0-8812-f3f76c38ac28",
        "colab": {
          "base_uri": "https://localhost:8080/"
        }
      },
      "execution_count": 69,
      "outputs": [
        {
          "output_type": "stream",
          "name": "stdout",
          "text": [
            "ellow, Wo\n"
          ]
        }
      ]
    },
    {
      "cell_type": "code",
      "source": [
        "b = \"Hellow , World!\"\n",
        "print(b[2:])"
      ],
      "metadata": {
        "id": "vgF9i3eptdGd",
        "outputId": "61c8d741-698c-4110-ae4d-46fb04e6761d",
        "colab": {
          "base_uri": "https://localhost:8080/"
        }
      },
      "execution_count": 70,
      "outputs": [
        {
          "output_type": "stream",
          "name": "stdout",
          "text": [
            "llow , World!\n"
          ]
        }
      ]
    },
    {
      "cell_type": "code",
      "source": [
        "b = \"Hellow , World!\"\n",
        "print(b[-5:-2])"
      ],
      "metadata": {
        "id": "yahTEBdhtrzl",
        "outputId": "667ca1b5-ebc0-4ea4-b3fe-0c7b42436679",
        "colab": {
          "base_uri": "https://localhost:8080/"
        }
      },
      "execution_count": 71,
      "outputs": [
        {
          "output_type": "stream",
          "name": "stdout",
          "text": [
            "orl\n"
          ]
        }
      ]
    },
    {
      "cell_type": "code",
      "source": [
        "a= \"Usman shafeeq\"\n",
        "print(a.upper())"
      ],
      "metadata": {
        "id": "EdaMR5nqtz00",
        "outputId": "eb9858f2-93bb-47c1-95a0-f41b9f9f9b85",
        "colab": {
          "base_uri": "https://localhost:8080/"
        }
      },
      "execution_count": 72,
      "outputs": [
        {
          "output_type": "stream",
          "name": "stdout",
          "text": [
            "USMAN SHAFEEQ\n"
          ]
        }
      ]
    },
    {
      "cell_type": "code",
      "source": [
        "a = \"USMAN SHAFEEQ\"\n",
        "print(a.lower())"
      ],
      "metadata": {
        "id": "i09nSqd4t9fL",
        "outputId": "273c4fca-c16c-40dd-c2ac-453ec70b95ed",
        "colab": {
          "base_uri": "https://localhost:8080/"
        }
      },
      "execution_count": 73,
      "outputs": [
        {
          "output_type": "stream",
          "name": "stdout",
          "text": [
            "usman shafeeq\n"
          ]
        }
      ]
    },
    {
      "cell_type": "code",
      "source": [
        "a = \" Hello, World!\"\n",
        "print(a.strip())"
      ],
      "metadata": {
        "id": "-EX7XLsOuEiW",
        "outputId": "483abed1-ff13-431a-e53d-dcd9e0229cf4",
        "colab": {
          "base_uri": "https://localhost:8080/"
        }
      },
      "execution_count": 74,
      "outputs": [
        {
          "output_type": "stream",
          "name": "stdout",
          "text": [
            "Hello, World!\n"
          ]
        }
      ]
    },
    {
      "cell_type": "code",
      "source": [
        "a = \"Hello, World!\"\n",
        "print(a.replace(\"H\", \"J\"))"
      ],
      "metadata": {
        "id": "lLfMYC1ZuM5v",
        "outputId": "3f5447df-dcc8-4ac1-9ed3-0ccc3cd32956",
        "colab": {
          "base_uri": "https://localhost:8080/"
        }
      },
      "execution_count": 76,
      "outputs": [
        {
          "output_type": "stream",
          "name": "stdout",
          "text": [
            "Jello, World!\n"
          ]
        }
      ]
    },
    {
      "cell_type": "code",
      "source": [
        "a = \"Hello , World!\"\n",
        "print(a.split(\",\"))"
      ],
      "metadata": {
        "id": "pRCweyLGuVJO",
        "outputId": "057fe29c-a8be-4dc7-9de5-b9b98d182ee2",
        "colab": {
          "base_uri": "https://localhost:8080/"
        }
      },
      "execution_count": 77,
      "outputs": [
        {
          "output_type": "stream",
          "name": "stdout",
          "text": [
            "['Hello ', ' World!']\n"
          ]
        }
      ]
    },
    {
      "cell_type": "code",
      "source": [],
      "metadata": {
        "id": "IzYUgp0euj-F"
      },
      "execution_count": null,
      "outputs": []
    }
  ]
}