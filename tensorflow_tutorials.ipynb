{
  "nbformat": 4,
  "nbformat_minor": 0,
  "metadata": {
    "colab": {
      "provenance": [],
      "authorship_tag": "ABX9TyNg/yy7kuwgyjtDj01MP3+m",
      "include_colab_link": true
    },
    "kernelspec": {
      "name": "python3",
      "display_name": "Python 3"
    },
    "language_info": {
      "name": "python"
    }
  },
  "cells": [
    {
      "cell_type": "markdown",
      "metadata": {
        "id": "view-in-github",
        "colab_type": "text"
      },
      "source": [
        "<a href=\"https://colab.research.google.com/github/UsmanShafeeq/Advanced-Machine-Learning-Project/blob/main/tensorflow_tutorials.ipynb\" target=\"_parent\"><img src=\"https://colab.research.google.com/assets/colab-badge.svg\" alt=\"Open In Colab\"/></a>"
      ]
    },
    {
      "cell_type": "markdown",
      "source": [
        "# TensorFlow tutorials"
      ],
      "metadata": {
        "id": "yvO41v68362w"
      }
    },
    {
      "cell_type": "markdown",
      "source": [
        "# 1. Getting Started: Basic TensorFlow Operations"
      ],
      "metadata": {
        "id": "OK4Bz4UP4Dpt"
      }
    },
    {
      "cell_type": "code",
      "source": [
        "import tensorflow as tf\n",
        "\n",
        "# Create a constant tensor\n",
        "hello = tf.constant(\"Hello, TensorFlow!\")\n",
        "print(hello.numpy())  # Output: b'Hello, TensorFlow!'\n",
        "\n",
        "# Perform basic math operations\n",
        "a = tf.constant(2)\n",
        "b = tf.constant(3)\n",
        "print(\"Addition:\", tf.add(a, b).numpy())  # Output: 5\n",
        "print(\"Multiplication:\", tf.multiply(a, b).numpy())  # Output: 6\n"
      ],
      "metadata": {
        "colab": {
          "base_uri": "https://localhost:8080/"
        },
        "id": "1i7eAQfh39RV",
        "outputId": "c4e6efa9-03fd-4e4c-944c-b933b1cf007e"
      },
      "execution_count": null,
      "outputs": [
        {
          "output_type": "stream",
          "name": "stdout",
          "text": [
            "b'Hello, TensorFlow!'\n",
            "Addition: 5\n",
            "Multiplication: 6\n"
          ]
        }
      ]
    },
    {
      "cell_type": "markdown",
      "source": [
        "# 2. Linear Regression with TensorFlow"
      ],
      "metadata": {
        "id": "zRyH8jTt4S-Q"
      }
    },
    {
      "cell_type": "code",
      "source": [
        "import numpy as np\n",
        "\n",
        "# Generate random data for x and y\n",
        "x_train = np.array([1.0, 2.0, 3.0, 4.0], dtype=np.float32)\n",
        "y_train = np.array([2.0, 4.0, 6.0, 8.0], dtype=np.float32)\n",
        "\n",
        "# Define model variables\n",
        "W = tf.Variable(0.0)\n",
        "b = tf.Variable(0.0)\n",
        "\n",
        "# Define the linear regression model\n",
        "def linear_regression(x):\n",
        "    return W * x + b\n",
        "\n",
        "# Loss function (Mean Squared Error)\n",
        "def mean_squared_error(y_true, y_pred):\n",
        "    return tf.reduce_mean(tf.square(y_true - y_pred))\n",
        "\n",
        "# Optimizer\n",
        "optimizer = tf.optimizers.SGD(learning_rate=0.01)\n",
        "\n",
        "# Training loop\n",
        "for epoch in range(100):\n",
        "    with tf.GradientTape() as tape:\n",
        "        y_pred = linear_regression(x_train)\n",
        "        loss = mean_squared_error(y_train, y_pred)\n",
        "\n",
        "    gradients = tape.gradient(loss, [W, b])\n",
        "    optimizer.apply_gradients(zip(gradients, [W, b]))\n",
        "    if epoch % 10 == 0:\n",
        "        print(f\"Epoch {epoch}: Loss = {loss.numpy()}\")\n",
        "\n",
        "print(\"Trained W:\", W.numpy(), \"b:\", b.numpy())\n"
      ],
      "metadata": {
        "colab": {
          "base_uri": "https://localhost:8080/"
        },
        "id": "F0lrmank4Wbx",
        "outputId": "f82f3c9e-18c4-46b3-9595-fdbb667f757b"
      },
      "execution_count": null,
      "outputs": [
        {
          "output_type": "stream",
          "name": "stdout",
          "text": [
            "Epoch 0: Loss = 30.0\n",
            "Epoch 10: Loss = 0.8330377340316772\n",
            "Epoch 20: Loss = 0.07510896027088165\n",
            "Epoch 30: Loss = 0.052382320165634155\n",
            "Epoch 40: Loss = 0.048858530819416046\n",
            "Epoch 50: Loss = 0.04600245878100395\n",
            "Epoch 60: Loss = 0.04332456737756729\n",
            "Epoch 70: Loss = 0.04080278053879738\n",
            "Epoch 80: Loss = 0.03842790424823761\n",
            "Epoch 90: Loss = 0.0361911877989769\n",
            "Trained W: 1.8463475 b: 0.45175737\n"
          ]
        }
      ]
    },
    {
      "cell_type": "markdown",
      "source": [
        "# 3. Image Classification with Convolutional Neural Networks (CNN)"
      ],
      "metadata": {
        "id": "txytZAKv4sx1"
      }
    },
    {
      "cell_type": "code",
      "source": [
        "from tensorflow.keras import layers, models, datasets\n",
        "\n",
        "# Load the CIFAR-10 dataset\n",
        "(x_train, y_train), (x_test, y_test) = datasets.cifar10.load_data()\n",
        "x_train, x_test = x_train / 255.0, x_test / 255.0  # Normalize pixel values\n",
        "\n",
        "# Build a CNN model\n",
        "model = models.Sequential([\n",
        "    layers.Conv2D(32, (3, 3), activation='relu', input_shape=(32, 32, 3)),\n",
        "    layers.MaxPooling2D((2, 2)),\n",
        "    layers.Conv2D(64, (3, 3), activation='relu'),\n",
        "    layers.MaxPooling2D((2, 2)),\n",
        "    layers.Conv2D(64, (3, 3), activation='relu'),\n",
        "    layers.Flatten(),\n",
        "    layers.Dense(64, activation='relu'),\n",
        "    layers.Dense(10)\n",
        "])\n",
        "\n",
        "# Compile the model\n",
        "model.compile(optimizer='adam',\n",
        "              loss=tf.keras.losses.SparseCategoricalCrossentropy(from_logits=True),\n",
        "              metrics=['accuracy'])\n",
        "\n",
        "# Train the model\n",
        "model.fit(x_train, y_train, epochs=10, validation_data=(x_test, y_test))\n"
      ],
      "metadata": {
        "colab": {
          "base_uri": "https://localhost:8080/"
        },
        "id": "ilKTxO-t4sOf",
        "outputId": "ee977740-ceb1-4d05-8214-80413bbd34ea"
      },
      "execution_count": null,
      "outputs": [
        {
          "output_type": "stream",
          "name": "stdout",
          "text": [
            "Downloading data from https://www.cs.toronto.edu/~kriz/cifar-10-python.tar.gz\n",
            "\u001b[1m170498071/170498071\u001b[0m \u001b[32m━━━━━━━━━━━━━━━━━━━━\u001b[0m\u001b[37m\u001b[0m \u001b[1m5s\u001b[0m 0us/step\n"
          ]
        },
        {
          "output_type": "stream",
          "name": "stderr",
          "text": [
            "/usr/local/lib/python3.10/dist-packages/keras/src/layers/convolutional/base_conv.py:107: UserWarning: Do not pass an `input_shape`/`input_dim` argument to a layer. When using Sequential models, prefer using an `Input(shape)` object as the first layer in the model instead.\n",
            "  super().__init__(activity_regularizer=activity_regularizer, **kwargs)\n"
          ]
        },
        {
          "output_type": "stream",
          "name": "stdout",
          "text": [
            "Epoch 1/10\n",
            "\u001b[1m1563/1563\u001b[0m \u001b[32m━━━━━━━━━━━━━━━━━━━━\u001b[0m\u001b[37m\u001b[0m \u001b[1m91s\u001b[0m 57ms/step - accuracy: 0.3109 - loss: 1.8516 - val_accuracy: 0.5138 - val_loss: 1.3516\n",
            "Epoch 2/10\n",
            "\u001b[1m1563/1563\u001b[0m \u001b[32m━━━━━━━━━━━━━━━━━━━━\u001b[0m\u001b[37m\u001b[0m \u001b[1m80s\u001b[0m 51ms/step - accuracy: 0.5391 - loss: 1.2871 - val_accuracy: 0.5779 - val_loss: 1.1805\n",
            "Epoch 3/10\n",
            "\u001b[1m1563/1563\u001b[0m \u001b[32m━━━━━━━━━━━━━━━━━━━━\u001b[0m\u001b[37m\u001b[0m \u001b[1m85s\u001b[0m 55ms/step - accuracy: 0.6061 - loss: 1.1080 - val_accuracy: 0.5685 - val_loss: 1.2196\n",
            "Epoch 4/10\n",
            "\u001b[1m 107/1563\u001b[0m \u001b[32m━\u001b[0m\u001b[37m━━━━━━━━━━━━━━━━━━━\u001b[0m \u001b[1m1:12\u001b[0m 50ms/step - accuracy: 0.6336 - loss: 1.0557"
          ]
        }
      ]
    },
    {
      "cell_type": "markdown",
      "source": [
        "# 4. Text Classification with Recurrent Neural Networks (RNN)"
      ],
      "metadata": {
        "id": "VmUvzfwk5Jfp"
      }
    },
    {
      "cell_type": "code",
      "source": [
        "# prompt: 4. Text Classification with Recurrent Neural Networks (RNN) and load data online\n",
        "\n",
        "import tensorflow_datasets as tfds\n",
        "\n",
        "# Load the IMDB movie review dataset\n",
        "dataset, info = tfds.load('imdb_reviews/subwords8k', with_info=True, as_supervised=True)\n",
        "train_dataset, test_dataset = dataset['train'], dataset['test']\n",
        "\n",
        "# Get the encoder\n",
        "encoder = info.features['text'].encoder\n",
        "\n",
        "# Example usage of the encoder\n",
        "sample_string = 'Hello TensorFlow.'\n",
        "encoded_string = encoder.encode(sample_string)\n",
        "print('Encoded string is {}'.format(encoded_string))\n",
        "\n",
        "original_string = encoder.decode(encoded_string)\n",
        "print('The original string: \"{}\"'.format(original_string))\n",
        "\n",
        "# Prepare the data for training\n",
        "BUFFER_SIZE = 10000\n",
        "BATCH_SIZE = 64\n",
        "\n",
        "train_dataset = train_dataset.shuffle(BUFFER_SIZE)\n",
        "train_dataset = train_dataset.padded_batch(BATCH_SIZE)\n",
        "test_dataset = test_dataset.padded_batch(BATCH_SIZE)\n",
        "\n",
        "# Build the RNN model\n",
        "model = tf.keras.Sequential([\n",
        "    tf.keras.layers.Embedding(encoder.vocab_size, 64),\n",
        "    tf.keras.layers.Bidirectional(tf.keras.layers.LSTM(64)),\n",
        "    tf.keras.layers.Dense(64, activation='relu'),\n",
        "    tf.keras.layers.Dense(1)\n",
        "])\n",
        "\n",
        "# Compile the model\n",
        "model.compile(loss=tf.keras.losses.BinaryCrossentropy(from_logits=True),\n",
        "              optimizer=tf.keras.optimizers.Adam(1e-4),\n",
        "              metrics=['accuracy'])\n",
        "\n",
        "# Train the model\n",
        "history = model.fit(train_dataset, epochs=10, validation_data=test_dataset, validation_steps=30)"
      ],
      "metadata": {
        "id": "8WDYGoz35NY9"
      },
      "execution_count": null,
      "outputs": []
    },
    {
      "cell_type": "markdown",
      "source": [
        "# 5. Time Series Forecasting with LSTM"
      ],
      "metadata": {
        "id": "nI_lGoNw7tig"
      }
    },
    {
      "cell_type": "code",
      "source": [
        "import numpy as np\n",
        "import tensorflow as tf\n",
        "from tensorflow.keras import layers\n",
        "\n",
        "# Generate some sample time-series data\n",
        "time = np.arange(1000)\n",
        "series = np.sin(0.1 * time) + np.random.normal(scale=0.1, size=len(time))\n",
        "\n",
        "# Prepare the data\n",
        "window_size = 20\n",
        "batch_size = 32\n",
        "train_data = tf.keras.preprocessing.timeseries_dataset_from_array(\n",
        "    series[:-100], series[window_size: -100 + window_size],\n",
        "    sequence_length=window_size, batch_size=batch_size)\n",
        "\n",
        "# Build the LSTM model\n",
        "model = tf.keras.Sequential([\n",
        "    layers.LSTM(64, input_shape=(None, 1)),\n",
        "    layers.Dense(1)\n",
        "])\n",
        "\n",
        "# Compile the model\n",
        "model.compile(optimizer='adam', loss='mse')\n",
        "\n",
        "# Train the model\n",
        "model.fit(train_data, epochs=10)\n"
      ],
      "metadata": {
        "id": "XPNeYqIA7xaI"
      },
      "execution_count": null,
      "outputs": []
    },
    {
      "cell_type": "markdown",
      "source": [
        "# 6. Transfer Learning for Image Classification"
      ],
      "metadata": {
        "id": "3rDPh6B672fF"
      }
    },
    {
      "cell_type": "code",
      "source": [
        "from tensorflow.keras.applications import VGG16\n",
        "from tensorflow.keras import layers, models\n",
        "from tensorflow.keras.preprocessing.image import ImageDataGenerator\n",
        "\n",
        "# Load VGG16 with pretrained weights and freeze its layers\n",
        "base_model = VGG16(weights='imagenet', include_top=False, input_shape=(150, 150, 3))\n",
        "base_model.trainable = False\n",
        "\n",
        "# Add custom classification layers on top\n",
        "model = models.Sequential([\n",
        "    base_model,\n",
        "    layers.Flatten(),\n",
        "    layers.Dense(256, activation='relu'),\n",
        "    layers.Dense(1, activation='sigmoid')\n",
        "])\n",
        "\n",
        "# Compile the model\n",
        "model.compile(optimizer='adam', loss='binary_crossentropy', metrics=['accuracy'])\n",
        "\n",
        "# Set up data generators\n",
        "train_datagen = ImageDataGenerator(rescale=1./255)\n",
        "train_generator = train_datagen.flow_from_directory(\n",
        "    'path/to/train', target_size=(150, 150), batch_size=32, class_mode='binary')\n",
        "\n",
        "# Train the model\n",
        "model.fit(train_generator, epochs=10)\n"
      ],
      "metadata": {
        "id": "BvYeRisQ764p"
      },
      "execution_count": null,
      "outputs": []
    },
    {
      "cell_type": "markdown",
      "source": [
        "# 7. Deploying a TensorFlow Model with TensorFlow Serving\n",
        "Save the Model:"
      ],
      "metadata": {
        "id": "mvv4ltBB7-Y_"
      }
    },
    {
      "cell_type": "code",
      "source": [
        "import tensorflow as tf\n",
        "\n",
        "# Assume `model` is a trained model\n",
        "model.save(\"my_model/1\")\n"
      ],
      "metadata": {
        "id": "u2ok-Duz8DcM"
      },
      "execution_count": null,
      "outputs": []
    },
    {
      "cell_type": "markdown",
      "source": [
        "Serve the Model:\n",
        "\n",
        "Use TensorFlow Serving to deploy the model by running:"
      ],
      "metadata": {
        "id": "jAXR3PXF8GCQ"
      }
    },
    {
      "cell_type": "code",
      "source": [
        "tensorflow_model_server --rest_api_port=8501 --model_name=my_model --model_base_path=\"$(pwd)/my_model\"\n"
      ],
      "metadata": {
        "id": "jiI2i7Hd8JBZ"
      },
      "execution_count": null,
      "outputs": []
    },
    {
      "cell_type": "markdown",
      "source": [
        "Send a Prediction Request:"
      ],
      "metadata": {
        "id": "KCoYAf6Z8NhN"
      }
    },
    {
      "cell_type": "code",
      "source": [
        "import requests\n",
        "import json\n",
        "\n",
        "# Input data\n",
        "data = json.dumps({\"instances\": [[1.0, 2.0, 5.0]]})\n",
        "headers = {\"content-type\": \"application/json\"}\n",
        "json_response = requests.post(\"http://localhost:8501/v1/models/my_model:predict\", data=data, headers=headers)\n",
        "predictions = json_response.json()[\"predictions\"]\n",
        "print(predictions)\n"
      ],
      "metadata": {
        "id": "Tgxcxxkr8Of1"
      },
      "execution_count": null,
      "outputs": []
    },
    {
      "cell_type": "markdown",
      "source": [],
      "metadata": {
        "id": "eG9L8eAG4r93"
      }
    }
  ]
}